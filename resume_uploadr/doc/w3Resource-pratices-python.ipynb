{
 "cells": [
  {
   "cell_type": "code",
   "execution_count": 2,
   "id": "a13c70e9",
   "metadata": {},
   "outputs": [
    {
     "name": "stdout",
     "output_type": "stream",
     "text": [
      "6\n"
     ]
    }
   ],
   "source": [
    "list1 = [1,2,3,4,5,6]\n",
    "print(len(list1))"
   ]
  },
  {
   "cell_type": "code",
   "execution_count": 7,
   "id": "282d05c8",
   "metadata": {},
   "outputs": [
    {
     "name": "stdout",
     "output_type": "stream",
     "text": [
      "Enter the string: kan\n",
      "{'k': 1, 'a': 1, 'n': 1}\n"
     ]
    }
   ],
   "source": [
    "str1 = input(\"Enter the string: \")\n",
    "d = dict()\n",
    "for i in str1:\n",
    "    d[i] = d.get(i,0) +1\n",
    "print(d)        \n",
    "        "
   ]
  },
  {
   "cell_type": "code",
   "execution_count": 43,
   "id": "8bb3d96b",
   "metadata": {},
   "outputs": [
    {
     "name": "stdout",
     "output_type": "stream",
     "text": [
      "Counter({'a': 2, 'n': 2, 'k': 1, 'c': 1, 'h': 1})\n"
     ]
    }
   ],
   "source": [
    "from collections import Counter\n",
    "list1 = \"kanchan\"\n",
    "counter= Counter(list1)\n",
    "print(counter)\n"
   ]
  },
  {
   "cell_type": "code",
   "execution_count": 8,
   "id": "2baf1c68",
   "metadata": {},
   "outputs": [
    {
     "name": "stdout",
     "output_type": "stream",
     "text": [
      "[0, 1, 4, 9, 16, 25, 36, 49, 64, 81]\n"
     ]
    }
   ],
   "source": [
    "squre = [i*i for i in range(10)]\n",
    "print(squre)"
   ]
  },
  {
   "cell_type": "code",
   "execution_count": 9,
   "id": "f02fec4c",
   "metadata": {},
   "outputs": [
    {
     "name": "stdout",
     "output_type": "stream",
     "text": [
      "{1, 2, 3, 4, 5, 6}\n"
     ]
    }
   ],
   "source": [
    "my_list = [1,2,3,3,4,4,5,5,6]\n",
    "print(set(my_list))"
   ]
  },
  {
   "cell_type": "code",
   "execution_count": 26,
   "id": "239f5df2",
   "metadata": {},
   "outputs": [
    {
     "name": "stdout",
     "output_type": "stream",
     "text": [
      "{'name': 'kanchan', 'Age': 23, 'city': 'lucknow'}\n"
     ]
    }
   ],
   "source": [
    "list1 = {'name':'kanchan', 'Age':23}\n",
    "list2 = {'name': 'kanchan', 'city':'lucknow'}\n",
    "marge_dict={**list1,**list2}\n",
    "print(marge_dict)"
   ]
  },
  {
   "cell_type": "code",
   "execution_count": 33,
   "id": "425c1dd5",
   "metadata": {},
   "outputs": [
    {
     "name": "stdout",
     "output_type": "stream",
     "text": [
      "$anchan\n"
     ]
    }
   ],
   "source": [
    "str1 = \"kanchan\"\n",
    "str2 = str1.replace('k', '$')\n",
    "print(str2)"
   ]
  },
  {
   "cell_type": "code",
   "execution_count": 42,
   "id": "ef75e662",
   "metadata": {},
   "outputs": [
    {
     "name": "stdout",
     "output_type": "stream",
     "text": [
      "24\n"
     ]
    }
   ],
   "source": [
    "# Step 1- Import math module in the program\n",
    "# Step 2- Define a function to multiply numbers\n",
    "# Step 3- Return math.prod(list)\n",
    "# Step 4- Declare list\n",
    "#Step 5- Print the value returned by the function\n",
    "import math\n",
    "def mul_ply(list):\n",
    "    return math.prod(list)\n",
    "list1=[3,2,4]\n",
    "print(mul_ply(list1))"
   ]
  },
  {
   "cell_type": "code",
   "execution_count": 46,
   "id": "d6661d84",
   "metadata": {},
   "outputs": [
    {
     "name": "stdout",
     "output_type": "stream",
     "text": [
      "4\n"
     ]
    }
   ],
   "source": [
    "list1 = [10, 20, 4, 45, 99]\n",
    "print(min(list1))\n",
    "\n"
   ]
  },
  {
   "cell_type": "code",
   "execution_count": 52,
   "id": "5ca61974",
   "metadata": {},
   "outputs": [
    {
     "name": "stdout",
     "output_type": "stream",
     "text": [
      "[-23, -6, -5, 0, 5, 23, 23, 67]\n"
     ]
    }
   ],
   "source": [
    "data_list = [-5, -23, 5, 0, 23, -6, 23, 67]\n",
    "new_list = []\n",
    "\n",
    "while data_list:\n",
    "    minimum = data_list[0]\n",
    "        # arbitrary number in list \n",
    "    for x in data_list: \n",
    "        if x < minimum:\n",
    "            minimum = x\n",
    "    new_list.append(minimum)\n",
    "    data_list.remove(minimum)    \n",
    "\n",
    "print (new_list)"
   ]
  },
  {
   "cell_type": "code",
   "execution_count": 57,
   "id": "84e15ba4",
   "metadata": {},
   "outputs": [
    {
     "data": {
      "text/plain": [
       "[1, 3, 5, 7, 9]"
      ]
     },
     "execution_count": 57,
     "metadata": {},
     "output_type": "execute_result"
    }
   ],
   "source": [
    "\n",
    "data = []\n",
    "for i in range(1, 10):\n",
    "    if i %==0:\n",
    "        data.append(i)\n",
    "data    \n",
    "    "
   ]
  },
  {
   "cell_type": "code",
   "execution_count": 80,
   "id": "a11bc864",
   "metadata": {},
   "outputs": [
    {
     "name": "stdout",
     "output_type": "stream",
     "text": [
      "     \n",
      "    *\n",
      "   * *\n",
      "  * * *\n",
      " * * * *\n",
      "    *\n",
      "    *\n",
      "    *\n"
     ]
    }
   ],
   "source": [
    "n = 5\n",
    "for i in range(n):\n",
    "    print(' '*(n-i), end='')\n",
    "    print(' '.join(map(str, str('*'*i))))\n",
    "for i in range(3):\n",
    "    print(' '*4 +\"*\")"
   ]
  },
  {
   "cell_type": "code",
   "execution_count": 88,
   "id": "be6c13f4",
   "metadata": {},
   "outputs": [
    {
     "name": "stdout",
     "output_type": "stream",
     "text": [
      "* *  *   *    *     *      *       *        * \n",
      "* *  *   *    *     *      *       * \n",
      "* *  *   *    *     *      * \n",
      "* *  *   *    *     * \n",
      "* *  *   *    * \n",
      "* *  *   * \n",
      "* *  * \n",
      "* * \n",
      "* \n"
     ]
    }
   ],
   "source": [
    "for i in range(1,10):\n",
    "    for j in range(10-i):\n",
    "        print(\" \"*(j)+ '*', end=\"\")\n",
    "    print(\" \")"
   ]
  },
  {
   "cell_type": "code",
   "execution_count": 89,
   "id": "e384604d",
   "metadata": {},
   "outputs": [
    {
     "name": "stdout",
     "output_type": "stream",
     "text": [
      " \n",
      " \n",
      "* \n",
      "** \n",
      "*** \n",
      "**** \n",
      "***** \n",
      "****** \n",
      "******* \n",
      "******** \n"
     ]
    }
   ],
   "source": [
    "for i in range(10):\n",
    "    for j in range(1,i):\n",
    "        print('*', end=\"\")\n",
    "    print(\" \")"
   ]
  },
  {
   "cell_type": "code",
   "execution_count": 98,
   "id": "ff3ae8aa",
   "metadata": {},
   "outputs": [
    {
     "name": "stdout",
     "output_type": "stream",
     "text": [
      "457\n"
     ]
    }
   ],
   "source": [
    "count = 0\n",
    "text = \"Writing a pProgram tO count the number of capital letters in a file is an important coding question that you can get in any coding interview. You can get questions based on this logic in several ways. You will be given a text file, and you will be asked to read the file without using a Python library and print the number of capital or lowercase letters in the text file. So here’s how you can write a Python program to count capital letters in a text file\"\n",
    "for i in text:\n",
    "    if i.islower():\n",
    "        count += 1\n",
    "print(count)"
   ]
  },
  {
   "cell_type": "code",
   "execution_count": 108,
   "id": "c37ada8c",
   "metadata": {},
   "outputs": [
    {
     "name": "stdout",
     "output_type": "stream",
     "text": [
      "{'Writing': 1, 'a': 6, 'pProgram': 1, 'tO': 1, 'count': 2, 'the': 4, 'number': 2, 'of': 2, 'capital': 3, 'letters': 3, 'in': 5, 'file': 3, 'is': 1, 'an': 1, 'important': 1, 'coding': 2, 'question': 1, 'that': 1, 'you': 3, 'can': 3, 'get': 2, 'any': 1, 'interview.': 1, 'You': 2, 'questions': 1, 'based': 1, 'on': 1, 'this': 1, 'logic': 1, 'several': 1, 'ways.': 1, 'will': 2, 'be': 2, 'given': 1, 'text': 3, 'file,': 1, 'and': 2, 'asked': 1, 'to': 2, 'read': 1, 'without': 1, 'using': 1, 'Python': 2, 'library': 1, 'print': 1, 'or': 1, 'lowercase': 1, 'file.': 1, 'So': 1, 'here’s': 1, 'how': 1, 'write': 1, 'program': 1}\n"
     ]
    }
   ],
   "source": [
    "text = \"Writing a pProgram tO count the number of capital letters in a file is an important coding question that you can get in any coding interview. You can get questions based on this logic in several ways. You will be given a text file, and you will be asked to read the file without using a Python library and print the number of capital or lowercase letters in the text file. So here’s how you can write a Python program to count capital letters in a text file\"\n",
    "counts = {}\n",
    "words = text.split()\n",
    "\n",
    "for word in words:\n",
    "        if word in counts:\n",
    "            counts[word] += 1\n",
    "        else:\n",
    "            counts[word] = 1\n",
    "\n",
    "print(counts)"
   ]
  },
  {
   "cell_type": "code",
   "execution_count": null,
   "id": "c9c7aea4",
   "metadata": {},
   "outputs": [],
   "source": []
  }
 ],
 "metadata": {
  "kernelspec": {
   "display_name": "Python 3 (ipykernel)",
   "language": "python",
   "name": "python3"
  },
  "language_info": {
   "codemirror_mode": {
    "name": "ipython",
    "version": 3
   },
   "file_extension": ".py",
   "mimetype": "text/x-python",
   "name": "python",
   "nbconvert_exporter": "python",
   "pygments_lexer": "ipython3",
   "version": "3.9.12"
  }
 },
 "nbformat": 4,
 "nbformat_minor": 5
}
